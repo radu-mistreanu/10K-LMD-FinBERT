{
  "nbformat": 4,
  "nbformat_minor": 0,
  "metadata": {
    "colab": {
      "provenance": []
    },
    "kernelspec": {
      "name": "python3",
      "display_name": "Python 3"
    },
    "language_info": {
      "name": "python"
    }
  },
  "cells": [
    {
      "cell_type": "markdown",
      "source": [
        "### Data Pre-processing"
      ],
      "metadata": {
        "id": "8MGTjURD5lw-"
      }
    },
    {
      "cell_type": "code",
      "source": [
        "import os\n",
        "import pandas as pd\n",
        "import re\n",
        "\n",
        "# Loading the Loughran-McDonald Master Dictionary (LMD) - Loughran & McDonald (2011)\n",
        "lmd_path = '/content/Loughran-McDonald_MasterDictionary_1993-2023.csv'\n",
        "\n",
        "lmd = pd.read_csv(lmd_path)\n",
        "\n",
        "lmd.shape"
      ],
      "metadata": {
        "colab": {
          "base_uri": "https://localhost:8080/"
        },
        "id": "0-hMWkep-s22",
        "outputId": "719ed196-0150-4e64-c7d5-875ca8414e5a"
      },
      "execution_count": 60,
      "outputs": [
        {
          "output_type": "execute_result",
          "data": {
            "text/plain": [
              "(86553, 17)"
            ]
          },
          "metadata": {},
          "execution_count": 60
        }
      ]
    },
    {
      "cell_type": "code",
      "source": [
        "lmd.info()"
      ],
      "metadata": {
        "colab": {
          "base_uri": "https://localhost:8080/"
        },
        "collapsed": true,
        "id": "Wbikg3pO_HbK",
        "outputId": "563e2254-b9fc-45de-d3da-78feed999e98"
      },
      "execution_count": 61,
      "outputs": [
        {
          "output_type": "stream",
          "name": "stdout",
          "text": [
            "<class 'pandas.core.frame.DataFrame'>\n",
            "RangeIndex: 86553 entries, 0 to 86552\n",
            "Data columns (total 17 columns):\n",
            " #   Column              Non-Null Count  Dtype  \n",
            "---  ------              --------------  -----  \n",
            " 0   Word                86552 non-null  object \n",
            " 1   Seq_num             86553 non-null  int64  \n",
            " 2   Word Count          86553 non-null  int64  \n",
            " 3   Word Proportion     86553 non-null  float64\n",
            " 4   Average Proportion  86553 non-null  float64\n",
            " 5   Std Dev             86553 non-null  float64\n",
            " 6   Doc Count           86553 non-null  int64  \n",
            " 7   Negative            86553 non-null  int64  \n",
            " 8   Positive            86553 non-null  int64  \n",
            " 9   Uncertainty         86553 non-null  int64  \n",
            " 10  Litigious           86553 non-null  int64  \n",
            " 11  Strong_Modal        86553 non-null  int64  \n",
            " 12  Weak_Modal          86553 non-null  int64  \n",
            " 13  Constraining        86553 non-null  int64  \n",
            " 14  Complexity          86553 non-null  int64  \n",
            " 15  Syllables           86553 non-null  int64  \n",
            " 16  Source              86553 non-null  object \n",
            "dtypes: float64(3), int64(12), object(2)\n",
            "memory usage: 11.2+ MB\n"
          ]
        }
      ]
    },
    {
      "cell_type": "code",
      "source": [
        "# Extracting Positive and Negative word lists\n",
        "condition = (lmd['Positive'] >= 1) | (lmd['Negative'] >= 1)\n",
        "\n",
        "lmd = lmd[condition]\n",
        "\n",
        "lmd.info()"
      ],
      "metadata": {
        "colab": {
          "base_uri": "https://localhost:8080/"
        },
        "id": "Jvs4QBUK_LcY",
        "outputId": "02e6f323-8ccd-47ef-a800-972ac500b0cd"
      },
      "execution_count": 62,
      "outputs": [
        {
          "output_type": "stream",
          "name": "stdout",
          "text": [
            "<class 'pandas.core.frame.DataFrame'>\n",
            "Index: 2692 entries, 9 to 86116\n",
            "Data columns (total 17 columns):\n",
            " #   Column              Non-Null Count  Dtype  \n",
            "---  ------              --------------  -----  \n",
            " 0   Word                2692 non-null   object \n",
            " 1   Seq_num             2692 non-null   int64  \n",
            " 2   Word Count          2692 non-null   int64  \n",
            " 3   Word Proportion     2692 non-null   float64\n",
            " 4   Average Proportion  2692 non-null   float64\n",
            " 5   Std Dev             2692 non-null   float64\n",
            " 6   Doc Count           2692 non-null   int64  \n",
            " 7   Negative            2692 non-null   int64  \n",
            " 8   Positive            2692 non-null   int64  \n",
            " 9   Uncertainty         2692 non-null   int64  \n",
            " 10  Litigious           2692 non-null   int64  \n",
            " 11  Strong_Modal        2692 non-null   int64  \n",
            " 12  Weak_Modal          2692 non-null   int64  \n",
            " 13  Constraining        2692 non-null   int64  \n",
            " 14  Complexity          2692 non-null   int64  \n",
            " 15  Syllables           2692 non-null   int64  \n",
            " 16  Source              2692 non-null   object \n",
            "dtypes: float64(3), int64(12), object(2)\n",
            "memory usage: 378.6+ KB\n"
          ]
        }
      ]
    },
    {
      "cell_type": "code",
      "source": [
        "print(lmd['Negative'].value_counts())\n",
        "print(lmd['Positive'].value_counts())"
      ],
      "metadata": {
        "colab": {
          "base_uri": "https://localhost:8080/"
        },
        "id": "tSB5BDQX_g0X",
        "outputId": "0dd849f1-eb95-4182-9412-57ac044e3369"
      },
      "execution_count": 63,
      "outputs": [
        {
          "output_type": "stream",
          "name": "stdout",
          "text": [
            "Negative\n",
            "2009    2305\n",
            "0        347\n",
            "2014      26\n",
            "2011      13\n",
            "2012       1\n",
            "Name: count, dtype: int64\n",
            "Positive\n",
            "0       2345\n",
            "2009     345\n",
            "2012       1\n",
            "2011       1\n",
            "Name: count, dtype: int64\n"
          ]
        }
      ]
    },
    {
      "cell_type": "code",
      "source": [
        "word_set = set(lmd['Word'].str.lower().tolist())\n",
        "print(word_set)"
      ],
      "metadata": {
        "colab": {
          "base_uri": "https://localhost:8080/"
        },
        "id": "HIl3OImo_pWO",
        "outputId": "a94565a2-8a8b-4df2-e71c-e8fbaf4e8980"
      },
      "execution_count": 64,
      "outputs": [
        {
          "output_type": "stream",
          "name": "stdout",
          "text": [
            "{'inactions', 'embargo', 'misprice', 'closures', 'downgraded', 'conciliations', 'disagreement', 'disparages', 'evicted', 'unmarketable', 'terminations', 'unmerchantable', 'impounded', 'hindered', 'misconduct', 'depleted', 'rejections', 'worse', 'enjoining', 'terminating', 'ineffectively', 'troubled', 'protestors', 'convict', 'inconsistently', 'inactivating', 'implicated', 'accidental', 'omitted', 'doubtful', 'incorrect', 'win', 'tragedies', 'inordinate', 'litigation', 'malice', 'understates', 'proficiently', 'insufficiently', 'preeminence', 'devalues', 'disinterested', 'hampering', 'overruns', 'deters', 'redact', 'winning', 'delay', 'proactively', 'friendly', 'able', 'premature', 'erratically', 'susceptibility', 'decline', 'condemn', 'favorable', 'repossesses', 'mismanagement', 'suspicion', 'deliberated', 'succeeded', 'assaulted', 'incidence', 'boycotts', 'risky', 'overloads', 'stagnated', 'stagnation', 'culpably', 'alienation', 'disloyally', 'defective', 'stoppage', 'unexpectedly', 'forbids', 'unpredicted', 'discontinued', 'overbuilding', 'incapacity', 'solvency', 'controversy', 'enjoy', 'counterclaiming', 'advancing', 'disaffiliation', 'encourages', 'termination', 'divorce', 'distractions', 'vulnerabilities', 'invention', 'confront', 'evade', 'inadvertently', 'unpredictable', 'embarrassment', 'mistake', 'strength', 'stress', 'tragically', 'convicted', 'expropriating', 'violating', 'exaggeration', 'inventor', 'frauds', 'aberration', 'encumbering', 'tolerates', 'unobtainable', 'condone', 'trouble', 'enjoyed', 'fraud', 'hindering', 'coercive', 'unconscionably', 'defacement', 'wrong', 'overrun', 'delisting', 'suffers', 'misjudgments', 'impermissible', 'complaints', 'conspirators', 'positive', 'nullifies', 'overdue', 'dampened', 'illicitly', 'purported', 'unapproved', 'incompetently', 'complimented', 'unsafe', 'unlicensed', 'unsatisfactory', 'improperly', 'redacting', 'postpone', 'nonpayments', 'irreversible', 'displaced', 'depressed', 'valuable', 'confesses', 'retribution', 'disputed', 'unanticipated', 'reject', 'divorced', 'falsity', 'illegality', 'disturbance', 'inefficient', 'strongest', 'inconsistency', 'deteriorations', 'infringing', 'underpayment', 'sued', 'profitable', 'uncontrollable', 'confusing', 'inactivates', 'ceased', 'liquidates', 'complimentary', 'disavowing', 'mistaken', 'outperform', 'deliberate', 'bail', 'depletes', 'dispose', 'harshly', 'doubts', 'breakthrough', 'culpability', 'disallowing', 'downtimes', 'smoothly', 'uncovers', 'popular', 'revolutionizing', 'insecure', 'indictable', 'succeeding', 'surpassed', 'weak', 'dissent', 'encouragement', 'unacceptable', 'calamitous', 'mothballing', 'precluded', 'encumbers', 'suspiciously', 'destabilized', 'unforeseen', 'overturns', 'efficient', 'inconsistencies', 'injures', 'conciliating', 'unlawful', 'disgorging', 'lose', 'conflicting', 'unpredictability', 'deleterious', 'mismatching', 'litigated', 'injured', 'overrunning', 'outmoded', 'tortuous', 'defamed', 'defamations', 'confiscating', 'greatness', 'underestimates', 'unknowingly', 'drastically', 'degradation', 'fantastic', 'demolished', 'penalizes', 'subjection', 'jeopardize', 'unforeseeable', 'annoy', 'benefitted', 'harmfully', 'inadequate', 'incarcerated', 'unfairly', 'impede', 'precluding', 'disfavoring', 'drawbacks', 'defrauded', 'injurious', 'implicating', 'happiness', 'overestimates', 'subpoenaed', 'negatives', 'injunctions', 'criticized', 'corrupted', 'fatalities', 'panic', 'pleasantly', 'deceiving', 'worsen', 'abusiveness', 'closure', 'lying', 'uncollectable', 'balked', 'harm', 'dismisses', 'conceded', 'prosperous', 'injure', 'writedown', 'obsolete', 'abrogates', 'perils', 'prospers', 'disappointing', 'enthusiasm', 'invalidity', 'unintentionally', 'disparaged', 'forced', 'sentenced', 'disparaging', 'harmful', 'upturn', 'disparage', 'stopped', 'limitations', 'prematurely', 'picket', 'difficultly', 'interrupting', 'hurting', 'quitting', 'deadlocking', 'exonerating', 'relinquishes', 'cybercrimes', 'assure', 'ridiculing', 'pleaded', 'resigning', 'challenged', 'erosion', 'hostile', 'sever', 'bottlenecks', 'devolves', 'worsened', 'omission', 'fear', 'inability', 'weaknesses', 'understating', 'terminated', 'bribed', 'unsuccessful', 'overcharging', 'suspends', 'conspiratorial', 'impasses', 'recklessly', 'excelling', 'innovation', 'turbulence', 'circumvents', 'corruptions', 'attain', 'arrearages', 'improving', 'repudiation', 'overburdened', 'dampen', 'deliberately', 'insufficiency', 'falsification', 'illegible', 'gained', 'tampered', 'encroaching', 'impropriety', 'enjoyably', 'abusing', 'uncovered', 'malicious', 'enhancement', 'indecent', 'calamities', 'spam', 'dissatisfied', 'insolvency', 'hinders', 'impairs', 'innovates', 'reparations', 'imbalances', 'conclusive', 'knowingly', 'arrest', 'abruptly', 'usurp', 'barred', 'diminution', 'devastation', 'overvalue', 'undetected', 'cautioned', 'mistaking', 'diminishes', 'collision', 'misunderstood', 'dependability', 'enhanced', 'influential', 'disallowances', 'exploited', 'unsuited', 'vitiate', 'objections', 'devastated', 'innovating', 'rewarded', 'abandon', 'detentions', 'dissented', 'punishment', 'stressed', 'worrying', 'willfully', 'overcome', 'abnormalities', 'malfeasance', 'persistent', 'adversity', 'overturn', 'nonperforming', 'detained', 'concern', 'hinder', 'constructively', 'acquiesce', 'breaks', 'prosecuted', 'corrupt', 'impairment', 'demolitions', 'discloses', 'contraction', 'rationalization', 'annul', 'depletions', 'fictitious', 'vitiating', 'undermine', 'overestimation', 'monopolizes', 'confrontations', 'denigrates', 'unjust', 'disfavored', 'disproportionately', 'disappears', 'colluding', 'confiscations', 'inaccessible', 'abused', 'ineffective', 'insurrection', 'negative', 'protraction', 'unperformed', 'faults', 'illiquid', 'harassment', 'liquidator', 'pleased', 'censured', 'misses', 'exceptionally', 'taint', 'disqualify', 'honors', 'advantaged', 'forfeit', 'stopping', 'purport', 'disclaimed', 'unremedied', 'argumentative', 'depressing', 'retaliation', 'resignation', 'ineffectiveness', 'overturning', 'scrutinize', 'unwelcome', 'disapproved', 'lockout', 'untruthfully', 'desirable', 'persistence', 'punishments', 'obstructing', 'dysfunctional', 'unable', 'persisted', 'upset', 'deficient', 'victims', 'balk', 'difficulties', 'insightful', 'misinterpreted', 'disinterestedness', 'stagnates', 'investigates', 'counterfeit', 'interferences', 'distorts', 'eviction', 'violate', 'favorably', 'deviated', 'protesting', 'convicting', 'verdict', 'gaining', 'impound', 'warning', 'pleasant', 'unrecoverable', 'unaware', 'positively', 'unknowing', 'disadvantage', 'incompetence', 'incapacitated', 'incorrectly', 'misinterpreting', 'protests', 'warned', 'depriving', 'disagree', 'ignores', 'rebounded', 'arrested', 'downsized', 'rejected', 'evading', 'voided', 'flaws', 'arguing', 'honored', 'reward', 'impressively', 'solving', 'coercing', 'curtail', 'miscalculation', 'enhance', 'accusations', 'informative', 'illegal', 'adversaries', 'achieved', 'conceding', 'straining', 'redressed', 'forgers', 'retaliatory', 'violated', 'deter', 'good', 'worsens', 'abnormally', 'disrepute', 'protest', 'weakened', 'inadequately', 'false', 'inequity', 'dishonors', 'evictions', 'underinsured', 'problem', 'burden', 'unjustified', 'benefited', 'disclosing', 'disappoints', 'mislabelled', 'incompatibility', 'crisis', 'uneconomic', 'breakdown', 'exploitative', 'forfeited', 'recession', 'corruptly', 'inquiry', 'destroyed', 'misdated', 'seriousness', 'declining', 'advances', 'confined', 'disrupted', 'destabilization', 'controversial', 'confronts', 'cybercriminals', 'smooth', 'toleration', 'opportunities', 'negligences', 'grievances', 'perfectly', 'dream', 'untrusted', 'destroys', 'falsifications', 'greatest', 'disclaimers', 'lacks', 'miscalculated', 'misinform', 'inactivate', 'contradiction', 'mistakes', 'rationalizes', 'penalizing', 'negligently', 'debarred', 'slowing', 'uneconomical', 'recalled', 'maliciously', 'misappropriating', 'moratoria', 'deterrences', 'undocumented', 'smoothing', 'guilty', 'progresses', 'drag', 'caution', 'destroying', 'deceased', 'unfortunate', 'bribing', 'downturn', 'defaults', 'troubles', 'profitably', 'cautions', 'litigate', 'innovated', 'ridicules', 'countermeasures', 'collapsed', 'damages', 'undesired', 'overestimating', 'implicates', 'questioned', 'divulging', 'unfavorability', 'usurps', 'concealing', 'allege', 'exposed', 'erode', 'provoked', 'succeeds', 'uncontrollably', 'suspicions', 'devalued', 'dysfunctions', 'embargoed', 'unacceptably', 'dissenters', 'delinquently', 'alienated', 'misdirected', 'exculpates', 'falsify', 'stresses', 'pleadings', 'errors', 'acquittals', 'strong', 'liquidation', 'progressing', 'crucially', 'stable', 'misbranded', 'accusation', 'endangering', 'reassigning', 'felony', 'stabilizing', 'suspects', 'deadlocks', 'artificially', 'lockouts', 'unavoidably', 'nuisance', 'scrutiny', 'rationalize', 'attainment', 'underreporting', 'catastrophes', 'unsure', 'inefficiently', 'distracts', 'failed', 'encroachment', 'uncollectibility', 'erodes', 'renouncing', 'sues', 'disapprovals', 'accusing', 'sacrifices', 'implicate', 'monopolization', 'deplete', 'disapproves', 'displacing', 'deprivation', 'impresses', 'rebounding', 'costly', 'counterfeited', 'confronted', 'delayed', 'misunderstandings', 'suspension', 'discredits', 'defraud', 'enjoyable', 'wasted', 'depresses', 'offenders', 'conspire', 'dishonorably', 'exculpatory', 'hurt', 'forgery', 'expropriates', 'tragic', 'disastrous', 'disqualified', 'difficulty', 'seriously', 'problems', 'offend', 'transparency', 'renounces', 'shrinkage', 'plentiful', 'demised', 'invalidated', 'inactivations', 'irregular', 'disturbing', 'downturns', 'catastrophically', 'unprofitability', 'inadvertent', 'annulments', 'embargoes', 'exacerbating', 'cyberattack', 'encumbrance', 'rejecting', 'alleged', 'enjoin', 'tremendous', 'bans', 'stressful', 'downtime', 'exculpation', 'terminates', 'indicting', 'confrontation', 'detract', 'unmeritorious', 'overloading', 'unreceptive', 'alleging', 'disallow', 'kickback', 'misinterpretations', 'distinctive', 'abuses', 'deterrent', 'underestimated', 'conciliation', 'improves', 'defaulted', 'abrogated', 'abrogating', 'flawed', 'misclassified', 'irreconcilable', 'deterrence', 'infringe', 'accomplished', 'restated', 'unscheduled', 'detrimental', 'bankrupted', 'misleads', 'careless', 'penalized', 'overlooks', 'defendants', 'circumventing', 'abundance', 'acquitted', 'claiming', 'insurrections', 'prolong', 'uncompetitive', 'diminished', 'loses', 'wrongfully', 'slowness', 'redress', 'deceive', 'disloyal', 'denigrating', 'countermeasure', 'prejudiced', 'breached', 'violation', 'worry', 'slippage', 'accidents', 'coerces', 'confining', 'miscalculate', 'incarceration', 'obstructions', 'discrepancy', 'downsizing', 'alerted', 'excessively', 'foregone', 'standstill', 'picketing', 'bankrupts', 'confiscated', 'circumvented', 'unavailability', 'misrepresent', 'distorted', 'corrected', 'grievance', 'inaccuracies', 'canceling', 'confronting', 'disproportion', 'undercut', 'impairing', 'allegations', 'circumvention', 'forfeitures', 'attractiveness', 'question', 'unstable', 'disappointed', 'warnings', 'missed', 'perfected', 'bottleneck', 'aberrations', 'unsold', 'litigates', 'precludes', 'unsaleable', 'unfulfilled', 'unpaid', 'confusingly', 'imperfection', 'impounding', 'irrecoverably', 'renegotiation', 'precipitously', 'terminate', 'misclassify', 'concealed', 'enhancements', 'worsening', 'divestiture', 'irregularities', 'erred', 'gains', 'stabilized', 'incredible', 'confinement', 'confession', 'shortages', 'lost', 'retaliating', 'misplaced', 'constructive', 'collapses', 'overstate', 'dereliction', 'oppose', 'rejection', 'collaborations', 'cutbacks', 'inventions', 'cutback', 'corrupting', 'precipitated', 'petty', 'hindrances', 'dishonorable', 'sluggishly', 'falsifying', 'assuring', 'distressed', 'counterfeiting', 'devolve', 'enjoined', 'reassignments', 'acclaimed', 'threatened', 'intermittent', 'misinterpretation', 'abuse', 'censures', 'disappointments', 'poses', 'abrogations', 'suspend', 'incarcerating', 'lapsing', 'tainted', 'detriment', 'interfering', 'deceived', 'doubted', 'liquidated', 'compliment', 'deprives', 'disparity', 'tragedy', 'unsound', 'unfunded', 'provoke', 'monopolizing', 'mislabeled', 'underutilization', 'easy', 'loss', 'insolvencies', 'impressed', 'forestall', 'concede', 'noncompetitive', 'strains', 'discourage', 'bailout', 'controversies', 'bolstering', 'desired', 'nonproductive', 'neglected', 'oversupplying', 'annoyances', 'abdicated', 'cancellations', 'improper', 'ineligibility', 'enhances', 'discontinuing', 'empowers', 'impaired', 'sluggishness', 'shutdown', 'aftermaths', 'standstills', 'bankruptcy', 'innovator', 'renegotiating', 'severities', 'mispricing', 'integrity', 'embarrass', 'encroachments', 'misapplies', 'subpoenas', 'kickbacks', 'expropriation', 'impounds', 'questionable', 'adversities', 'criminals', 'faulted', 'restates', 'mistrials', 'drought', 'aggravated', 'boost', 'contradictions', 'solves', 'restating', 'punishing', 'impracticalities', 'inactivated', 'unsustainable', 'provoking', 'danger', 'divested', 'condoned', 'reassigns', 'enabled', 'disadvantageous', 'leading', 'noncompliances', 'satisfying', 'distort', 'criminal', 'conflicted', 'benefiting', 'defaming', 'onerous', 'substandard', 'sacrificial', 'irregularly', 'inaccurate', 'moratoriums', 'accident', 'misleadingly', 'harming', 'fears', 'despite', 'purports', 'diverts', 'erring', 'condemns', 'offended', 'interfered', 'manipulations', 'criticism', 'invalidation', 'absence', 'panics', 'disruptions', 'unexcused', 'mismatch', 'nonattainment', 'strain', 'fail', 'derelict', 'contradict', 'harassing', 'severe', 'defame', 'canceled', 'disgorge', 'cancelling', 'mislabel', 'alliance', 'dispute', 'counterfeiters', 'intimidation', 'accomplish', 'unexpected', 'dishonor', 'litigants', 'shuts', 'prestige', 'impedes', 'closeout', 'chargeoffs', 'exemplary', 'unneeded', 'writeoffs', 'intrusion', 'unduly', 'worst', 'untruth', 'dismissals', 'prosecution', 'renounced', 'uncompleted', 'catastrophe', 'disappearing', 'immature', 'incredibly', 'obsolescence', 'unnecessary', 'halted', 'prolonging', 'exaggerating', 'prevents', 'perpetrates', 'noncompliance', 'embezzles', 'counterclaimed', 'hampered', 'abdicating', 'undelivered', 'circumvent', 'delays', 'hazard', 'incompletely', 'unfit', 'volatile', 'weakness', 'frustrations', 'perfect', 'unproductive', 'demolish', 'sluggish', 'dismissed', 'subpoena', 'dispossess', 'deficit', 'disassociations', 'enjoins', 'meritorious', 'acquits', 'disrupting', 'declines', 'circumventions', 'threat', 'inventive', 'unnecessarily', 'repudiate', 'disavowed', 'discrepancies', 'usurped', 'nullification', 'worthless', 'fraudulence', 'overbuilt', 'uncontrolled', 'unethically', 'monopolists', 'forbidding', 'surpassing', 'wasteful', 'achievements', 'slowest', 'annoyed', 'cut', 'disreputable', 'catastrophic', 'depleting', 'volatility', 'premiere', 'redacted', 'lingering', 'interrupt', 'defunct', 'misjudgment', 'riskier', 'forfeits', 'break', 'disappearances', 'invalid', 'unprofitable', 'coerce', 'unjustifiable', 'subjecting', 'stronger', 'disparagement', 'colluded', 'default', 'deficiencies', 'encumbrances', 'suffering', 'collusion', 'stagnant', 'interruptions', 'embarrassments', 'precipitous', 'destructive', 'discredit', 'violative', 'discontinuations', 'undercutting', 'delinquency', 'diversion', 'collaborated', 'demolishes', 'offends', 'conflicts', 'contradicting', 'efficiency', 'opposing', 'underpayments', 'boycotting', 'impediment', 'invented', 'slandered', 'instability', 'litigating', 'objecting', 'groundless', 'opposed', 'punitive', 'attrition', 'burdens', 'protester', 'stops', 'weakens', 'best', 'inefficiency', 'misdemeanor', 'shortfalls', 'suffer', 'deadweight', 'mislead', 'misinforming', 'writedowns', 'manipulates', 'enhancing', 'condemnation', 'fails', 'dangerously', 'dissenter', 'diverting', 'empower', 'superior', 'attractive', 'shut', 'refused', 'unreported', 'coercion', 'impeded', 'misusing', 'incarcerations', 'devolved', 'hazardous', 'lapses', 'mischaracterization', 'successful', 'disqualification', 'collaborate', 'unsellable', 'unqualified', 'postponement', 'abrogation', 'infractions', 'spectacularly', 'plead', 'malfunctioning', 'monopolize', 'breakage', 'disqualifications', 'nonconformities', 'racketeering', 'improved', 'deterioration', 'perpetrate', 'deterring', 'attained', 'pleasure', 'bolsters', 'nonperformance', 'disruptive', 'overturned', 'restructurings', 'misrepresentation', 'discrediting', 'sacrifice', 'relinquishment', 'renounce', 'alienating', 'destabilize', 'stringent', 'annoyance', 'felonies', 'staggering', 'contractions', 'turmoil', 'disorderly', 'severity', 'plaintiff', 'defames', 'deviates', 'embezzler', 'expose', 'prolonged', 'rewarding', 'misapplied', 'contested', 'lags', 'foreclosing', 'deterred', 'divestitures', 'surpass', 'inimical', 'profitability', 'prospered', 'liquidators', 'claims', 'attainments', 'summonses', 'suspicious', 'happy', 'setback', 'rebound', 'aberrational', 'disproportional', 'lackluster', 'imperil', 'adversarial', 'ingenuity', 'revoke', 'impasse', 'dismiss', 'favoring', 'rationalized', 'untenable', 'slowdown', 'overproduced', 'aggravates', 'argue', 'contempt', 'collaborates', 'discredited', 'overstated', 'burdensome', 'unsatisfied', 'excellent', 'manipulated', 'collaboration', 'picketed', 'contention', 'recessionary', 'unmatched', 'unrecovered', 'disallowed', 'encouraged', 'refuse', 'deviating', 'refuses', 'purporting', 'denying', 'unstabilized', 'collaborators', 'distorting', 'inequitable', 'deteriorates', 'urgent', 'pervasiveness', 'acquiescing', 'slanderous', 'defend', 'suspensions', 'embargoing', 'problematic', 'misinformed', 'disputes', 'ideal', 'vulnerably', 'downward', 'imperfections', 'exonerations', 'omitting', 'abdications', 'accomplishing', 'revolutionized', 'firing', 'uncollectibles', 'inventing', 'debarment', 'defendant', 'reluctant', 'easily', 'exoneration', 'interference', 'accomplishes', 'contends', 'curtailed', 'collaborating', 'stabilize', 'succeed', 'miscalculations', 'failure', 'stability', 'complains', 'immoral', 'abnormality', 'opposes', 'delighted', 'downwards', 'dangers', 'moratorium', 'pled', 'offender', 'evict', 'exposes', 'excited', 'recklessness', 'advantageously', 'discontinues', 'abrogate', 'crimes', 'mismanaged', 'prosecutions', 'usurping', 'persisting', 'uneconomically', 'prejudicial', 'disgrace', 'booming', 'undercapitalized', 'demoted', 'misclassification', 'summoning', 'accuse', 'displace', 'enjoys', 'illegalities', 'nullifications', 'perpetration', 'sharply', 'idled', 'violates', 'frustrate', 'unfavorably', 'dishonest', 'defending', 'negatively', 'overestimations', 'bribes', 'degraded', 'impediments', 'exaggerate', 'allegation', 'miscalculating', 'contentious', 'criminally', 'prosecute', 'miss', 'improvement', 'illicit', 'uncovering', 'undisclosed', 'aggravate', 'incidents', 'misled', 'adverse', 'disadvantages', 'aberrant', 'misrepresenting', 'slower', 'foreclosure', 'lagging', 'summoned', 'overestimate', 'unsavory', 'reassigned', 'redefault', 'correcting', 'deceptive', 'cancellation', 'injuries', 'scandals', 'perjury', 'uninsured', 'excels', 'strengths', 'conducive', 'neglectful', 'unsuitability', 'delightfully', 'censuring', 'misappropriate', 'bankrupting', 'recalling', 'prolongs', 'incompatible', 'complimenting', 'adulterate', 'argument', 'misstated', 'imbalance', 'plea', 'threats', 'absences', 'scandalous', 'violations', 'warns', 'reassessments', 'understated', 'tightening', 'losses', 'bankrupt', 'purportedly', 'persist', 'punished', 'exacerbate', 'misinforms', 'cybercriminal', 'declined', 'incomplete', 'defamation', 'impractical', 'insufficient', 'dissolutions', 'distract', 'misused', 'invalidate', 'impeding', 'questionably', 'overloaded', 'dispossessed', 'tolerated', 'optimistic', 'retributions', 'diligent', 'reassessment', 'disruption', 'creativity', 'inexperience', 'manipulating', 'delisted', 'contended', 'confinements', 'difficult', 'perfects', 'hardship', 'burned', 'misapplications', 'failings', 'mishandled', 'alienates', 'adulterations', 'escalating', 'advancement', 'unconscionable', 'preclude', 'ignore', 'concerns', 'indefeasibly', 'innovativeness', 'demolishing', 'divesting', 'aversely', 'deceitfulness', 'mischief', 'confiscate', 'abandoning', 'disappointingly', 'illiquidity', 'inventiveness', 'misdemeanors', 'weakening', 'interrupted', 'penalize', 'threaten', 'accuses', 'distinctiveness', 'provokes', 'deterrents', 'underutilized', 'worthy', 'confine', 'frustratingly', 'hindrance', 'disinterestedly', 'aggravation', 'unethical', 'omit', 'unfavourable', 'exclusiveness', 'tolerating', 'expulsion', 'exclusively', 'exclusivity', 'exploiting', 'outperforms', 'burdening', 'deny', 'disallowance', 'involuntarily', 'disgraceful', 'inequitably', 'devastating', 'underproduced', 'curtails', 'demise', 'divestment', 'threatens', 'collaborator', 'inferior', 'inattention', 'droughts', 'dispossessing', 'concerned', 'embezzlements', 'adulteration', 'deteriorating', 'abusive', 'inaccurately', 'layoff', 'unsuspected', 'intermittently', 'challenge', 'beautifully', 'underperforming', 'delists', 'boom', 'inequities', 'misjudge', 'overages', 'honor', 'neglect', 'collude', 'distortion', 'lapse', 'dissolution', 'boosted', 'invent', 'barriers', 'favorites', 'wrongly', 'damaged', 'disregarded', 'unresolved', 'dissident', 'penalties', 'lag', 'encroaches', 'achievement', 'overstates', 'fines', 'premier', 'beautiful', 'condemned', 'misjudges', 'preventing', 'resigns', 'miscommunication', 'undermines', 'disregarding', 'embarrasses', 'incarcerate', 'prejudicing', 'protracted', 'deceitful', 'impossibility', 'accidentally', 'deadweights', 'enabling', 'challenges', 'oversupplied', 'creativeness', 'writeoff', 'assures', 'cease', 'obscenity', 'divulges', 'detracting', 'repossessing', 'inadequacy', 'eroded', 'defamatory', 'fallout', 'enthusiastic', 'collapse', 'lucrative', 'endangers', 'demotions', 'receptive', 'incorrectness', 'disavows', 'traumatic', 'endanger', 'imperative', 'winners', 'disgorged', 'curtailment', 'culpable', 'abolished', 'empowered', 'reluctance', 'attaining', 'litigant', 'stabilization', 'impossible', 'faulty', 'omits', 'vitiation', 'confuses', 'exclusives', 'discontinue', 'proficiency', 'harsher', 'indictments', 'unsuitable', 'conviction', 'alliances', 'misappropriation', 'prestigious', 'manipulative', 'predatory', 'infringed', 'enjoyment', 'discontinuance', 'exacerbated', 'overpaid', 'persists', 'unfeasible', 'questioning', 'cybercrime', 'misinterprets', 'ignoring', 'invalidates', 'questions', 'loyal', 'postponing', 'error', 'problematical', 'prevention', 'obstruction', 'unpredictably', 'exonerates', 'overstatement', 'interruption', 'annulling', 'perpetrating', 'pleads', 'misstep', 'sacrificed', 'contesting', 'indefeasible', 'pretrial', 'failures', 'repudiations', 'underperform', 'markdowns', 'objectionable', 'tremendously', 'extenuating', 'disagreeing', 'opposition', 'briberies', 'corruption', 'inactivation', 'innovate', 'denies', 'nonperformances', 'investigating', 'defeating', 'deficiency', 'degrades', 'malfunction', 'prosperity', 'abandons', 'severely', 'devalue', 'misuses', 'proactive', 'reassignment', 'forfeiture', 'detain', 'disfavor', 'abandoned', 'halt', 'impracticable', 'undermining', 'hardships', 'falsified', 'injury', 'nullified', 'peril', 'misunderstanding', 'challenging', 'spectacular', 'inadequacies', 'dependable', 'favored', 'disclaim', 'protested', 'beneficially', 'distracting', 'tolerate', 'deprive', 'breaching', 'collisions', 'delist', 'easing', 'misstatement', 'disclaims', 'discouraging', 'discontinuances', 'exclusive', 'harmed', 'denigrate', 'limitation', 'carelessly', 'prolongations', 'upturns', 'inconsistent', 'unaccounted', 'exculpate', 'diminishing', 'convictions', 'revokes', 'stabilizes', 'protestor', 'sue', 'unemployment', 'unreimbursed', 'unattractive', 'annulment', 'happily', 'accused', 'expropriate', 'disgorgement', 'attains', 'misinterpret', 'misunderstand', 'reassign', 'fraudulently', 'unoccupied', 'deface', 'destined', 'testifying', 'vitiated', 'noncomplying', 'exacerbates', 'exculpating', 'complicated', 'abetting', 'inconvenient', 'disagreed', 'outages', 'impressive', 'distraction', 'abrupt', 'outperforming', 'encroach', 'poorly', 'regained', 'innovative', 'misuse', 'critically', 'retaliations', 'revocations', 'boycott', 'restructured', 'dismissing', 'creative', 'foreclose', 'indictment', 'delinquencies', 'proficient', 'unavoidable', 'testify', 'advantage', 'discourages', 'unwilling', 'annoys', 'detention', 'erroneously', 'complicates', 'refusing', 'slander', 'abdication', 'confuse', 'fault', 'eroding', 'nonpayment', 'underperformance', 'excessive', 'encumbered', 'disagreements', 'redactions', 'shutting', 'frustration', 'involuntary', 'unusable', 'complained', 'confessed', 'inflicted', 'anomalously', 'inhibited', 'inappropriately', 'overcapacities', 'revoked', 'embezzle', 'repudiates', 'collaborative', 'complicate', 'dissenting', 'disrupt', 'redefaults', 'abdicates', 'indecency', 'infringement', 'benefitting', 'expropriated', 'mishandle', 'stolen', 'disassociates', 'rejects', 'incompatibilities', 'renegotiated', 'distress', 'harshness', 'strengthened', 'unreasonable', 'drawback', 'unfair', 'untruthful', 'demising', 'disapproving', 'divests', 'prone', 'regaining', 'assured', 'counterclaim', 'criticizes', 'gratuitous', 'vandalism', 'scrutinizes', 'investigated', 'riskiest', 'progress', 'cumbersome', 'sacrificing', 'defrauding', 'disfavors', 'spamming', 'slowly', 'breakages', 'diverted', 'unfavorable', 'infraction', 'understate', 'falsely', 'reparation', 'pervasively', 'recall', 'untimely', 'violator', 'interfere', 'markdown', 'unsubstantiated', 'sabotage', 'misrepresentations', 'wrongdoings', 'divert', 'overlooking', 'charitable', 'objectionably', 'defaulting', 'embezzlement', 'imprudently', 'nullifying', 'weakly', 'conspiracy', 'overestimated', 'dishonored', 'disadvantaged', 'satisfies', 'subjected', 'achieves', 'barrier', 'breakdowns', 'crime', 'disaster', 'demoting', 'confess', 'damaging', 'inventors', 'alleges', 'downgrading', 'misapplying', 'slow', 'unemployed', 'irreparable', 'quit', 'shortage', 'deteriorated', 'harass', 'inexperienced', 'boycotted', 'deviations', 'forbid', 'confusion', 'neglects', 'inspiration', 'offending', 'criticizing', 'disregards', 'corruptness', 'spammers', 'punishes', 'weaker', 'disapproval', 'defeat', 'evicts', 'unintentional', 'resignations', 'disqualifies', 'satisfied', 'nonfunctional', 'arrearage', 'deviation', 'inaction', 'revolutionize', 'demotes', 'unliquidated', 'prospering', 'favorite', 'erroneous', 'aftermath', 'delights', 'dishonoring', 'incompetents', 'censure', 'manipulation', 'unjustifiably', 'destroy', 'dismissal', 'deceptions', 'unwanted', 'fired', 'vibrancy', 'popularity', 'brilliant', 'encouraging', 'dissidents', 'slanders', 'anomalies', 'discontinuation', 'delaying', 'overshadowing', 'ridicule', 'renouncements', 'disgorgements', 'misjudging', 'achieve', 'defended', 'evicting', 'underestimating', 'taints', 'malfunctioned', 'happiest', 'losing', 'contradictory', 'divulge', 'denigrated', 'inadvisable', 'deprecation', 'jeopardized', 'delighting', 'unjustly', 'arrears', 'antitrust', 'overburden', 'collusions', 'backdating', 'cancel', 'successes', 'unrealistic', 'disturbances', 'defeated', 'greatly', 'dissatisfaction', 'counterclaims', 'misapplication', 'assertions', 'adulterating', 'disciplinary', 'overpayment', 'abolishes', 'slowdowns', 'impending', 'encroached', 'violent', 'cyberattacks', 'repossessions', 'mispricings', 'defer', 'harsh', 'condemnations', 'cautioning', 'encumber', 'enthusiastically', 'shortfall', 'deadlocked', 'mismanages', 'verdicts', 'overlook', 'manipulate', 'endangerment', 'dropped', 'inconvenience', 'incidences', 'unwarranted', 'idle', 'aggravations', 'stagnate', 'endangered', 'obstructed', 'bolstered', 'underestimate', 'abnormal', 'opportunistic', 'irrecoverable', 'overcharge', 'lagged', 'shrinkages', 'voiding', 'criticize', 'flaw', 'unfortunately', 'disturbed', 'contending', 'disassociation', 'frustrating', 'inspirational', 'infringements', 'renegotiations', 'illegally', 'depress', 'embezzled', 'impair', 'foregoes', 'strengthening', 'inconclusive', 'duress', 'hazards', 'distortions', 'disapprove', 'obstacle', 'dispossesses', 'restatements', 'easier', 'misinformation', 'exaggerated', 'malpractice', 'honoring', 'relinquished', 'lapsed', 'obstacles', 'omissions', 'obstruct', 'ridiculed', 'nonproducing', 'undercuts', 'advantages', 'carelessness', 'failing', 'warn', 'cautionary', 'deprived', 'distinctions', 'accomplishment', 'malfunctions', 'insubordination', 'underproduction', 'inappropriate', 'complain', 'wasting', 'forego', 'worries', 'drastic', 'irreparably', 'severed', 'hostility', 'defeats', 'accomplishments', 'prejudices', 'opportunistically', 'threatening', 'confessing', 'misstating', 'dismally', 'dissents', 'abolish', 'pressing', 'relinquish', 'alienations', 'lacked', 'weaken', 'gain', 'demotion', 'nonconformity', 'violence', 'dishonestly', 'satisfactory', 'empowering', 'litigations', 'mislabeling', 'negligent', 'evasion', 'stagnating', 'complications', 'overload', 'lacking', 'overproduction', 'embezzling', 'breaches', 'distracted', 'compulsion', 'obscene', 'seizing', 'downsize', 'annuls', 'mishandling', 'adulterated', 'misappropriations', 'conclusively', 'defrauds', 'insolvent', 'uncorrected', 'inactivity', 'disallows', 'mothballed', 'acquit', 'collusive', 'achieving', 'defaced', 'disqualifying', 'grossly', 'misapply', 'exonerate', 'inevitable', 'nullify', 'expropriations', 'bribe', 'miscalculates', 'justifiable', 'harms', 'downgrades', 'enjoying', 'bad', 'aggravating', 'evasive', 'hampers', 'suspended', 'depletion', 'cancelled', 'shutdowns', 'indict', 'detrimentally', 'downgrade', 'lie', 'undue', 'damage', 'advantageous', 'impress', 'nondisclosure', 'incompetent', 'unauthorized', 'unsalable', 'denial', 'defends', 'adversely', 'missteps', 'disloyalty', 'sentencing', 'expulsions', 'overstating', 'objection', 'argued', 'contradicts', 'egregious', 'seized', 'fined', 'repossession', 'nuisances', 'forcing', 'ignored', 'prosecutes', 'postponed', 'cancels', 'overbuild', 'versatility', 'unreasonably', 'interrupts', 'recessions', 'poor', 'defect', 'unforseen', 'curtailing', 'forecloses', 'collapsing', 'enable', 'overcharges', 'efficiently', 'inaccuracy', 'disappoint', 'acquiesced', 'counterfeiter', 'overvalued', 'debarments', 'persistently', 'unintended', 'repudiated', 'derogatory', 'delightful', 'layoffs', 'overcoming', 'posing', 'racketeer', 'assaults', 'evaded', 'confident', 'breach', 'adequately', 'innovations', 'underperforms', 'opportunity', 'downsizes', 'imprisonment', 'offence', 'renegotiate', 'abusively', 'retaliates', 'downsizings', 'exploit', 'stressing', 'mismanaging', 'misrepresented', 'understatements', 'monopoly', 'misappropriates', 'incident', 'pleading', 'redefaulted', 'abandonments', 'monopolized', 'exaggerates', 'defensive', 'perpetrated', 'displaces', 'disputing', 'forestalling', 'unsurpassed', 'incompetency', 'mismatched', 'contrary', 'creatively', 'devastate', 'arrests', 'divest', 'adversary', 'improvements', 'leadership', 'oppositions', 'revoking', 'disgracefully', 'suspected', 'shocked', 'overage', 'alerting', 'uncover', 'denials', 'deficits', 'strengthen', 'assaulting', 'pleas', 'wrongdoing', 'tainting', 'complaining', 'disparities', 'diligently', 'deception', 'doubt', 'complication', 'enables', 'overcharged', 'solvencies', 'divulged', 'underperformed', 'mistakenly', 'revolutionizes', 'liquidate', 'denigration', 'refusals', 'acquittal', 'criticisms', 'prolongation', 'surpasses', 'destabilizing', 'investigations', 'degrade', 'relinquishing', 'acquiesces', 'misclassifications', 'coerced', 'resign', 'detracted', 'calamity', 'stoppages', 'suspect', 'idling', 'tortuously', 'anomaly', 'diminish', 'courteous', 'frustrates', 'exposing', 'untruths', 'prejudice', 'strained', 'revocation', 'impairments', 'disavowal', 'against', 'slowed', 'curtailments', 'bribery', 'burdened', 'corrections', 'incapable', 'confrontational', 'crises', 'injuring', 'refusal', 'vulnerable', 'rationalizations', 'exculpated', 'devolving', 'advancements', 'vitiates', 'stabilizations', 'disgorges', 'undermined', 'evades', 'dysfunction', 'wrongful', 'unfounded', 'incarcerates', 'corrects', 'violators', 'vulnerability', 'conspires', 'urgency', 'confused', 'degradations', 'exciting', 'allegedly', 'confiscates', 'acquitting', 'unpopular', 'nonrenewal', 'satisfy', 'seize', 'unrest', 'undetermined', 'usurious', 'demote', 'mismatches', 'serious', 'disrupts', 'unfitness', 'contend', 'abundant', 'misrepresents', 'assault', 'overshadows', 'deteriorate', 'deviate', 'disparagements', 'investigation', 'abruptness', 'exculpations', 'clawback', 'discouraged', 'felonious', 'monopolistic', 'mismanage', 'offences', 'scrutinized', 'tense', 'alienate', 'disturb', 'versatile', 'slippages', 'delinquent', 'smooths', 'fatality', 'embarrassing', 'exploitations', 'postponements', 'evasions', 'lack', 'outperformed', 'disappearance', 'winner', 'uncollected', 'oversupply', 'understatement', 'conspiracies', 'outdated', 'overstatements', 'infringes', 'overpayments', 'underpaid', 'imprudent', 'restructures', 'misleading', 'postpones', 'preeminent', 'noncompliant', 'satisfactorily', 'confiscation', 'hamper', 'success', 'disavow', 'inadvisability', 'overshadowed', 'disappear', 'disclosed', 'misstate', 'escalated', 'undesirable', 'ineligible', 'devaluing', 'anticompetitive', 'satisfaction', 'restructuring', 'disregard', 'strengthens', 'vetoed', 'compliments', 'disastrously', 'overcapacity', 'forbidden', 'overproducing', 'distinction', 'complaint', 'gratuitously', 'better', 'distinctively', 'overtly', 'improprieties', 'absenteeism', 'escalate', 'mistrial', 'overcomes', 'suing', 'irregularity', 'efficiencies', 'misjudged', 'conspired', 'outage', 'incompleteness', 'retaliate', 'regain', 'inconveniences', 'anomalous', 'disclose', 'confines', 'exceptional', 'misstatements', 'unplanned', 'ceases', 'exacerbation', 'abandonment', 'misstates', 'fraudulent', 'frustrated', 'divestments', 'correction', 'fugitives', 'colludes', 'resigned', 'disagrees', 'foreclosures', 'pervasive', 'frivolous', 'concedes', 'usury', 'seizes', 'mislabels', 'excitement', 'disparagingly', 'violently', 'investigate', 'reckless', 'disincentives', 'unfriendly', 'unsuspecting', 'overproduces', 'inordinately', 'fatally', 'nonconforming', 'improve', 'egregiously', 'undeliverable', 'exonerated', 'unreasonableness', 'liquidating', 'closeouts', 'mishandles', 'escalates', 'suspending', 'impracticality', 'disagreeable', 'protesters', 'summons', 'conspirator', 'dangerous', 'disappeared', 'uncollectible', 'disassociating', 'repossessed', 'neglecting', 'harshest', 'disappointment', 'overvaluing', 'delight', 'delinquents', 'counterfeits', 'prosecuting', 'exacerbations', 'redressing', 'exploitation', 'redresses', 'defects', 'successfully', 'crucial', 'condemning', 'renouncement', 'disclaimer', 'susceptible', 'contentions', 'restatement', 'untruthfulness', 'renegotiates', 'weakest', 'intentional', 'disproportionate', 'frivolously', 'overshadow', 'deceit', 'overlooked', 'rationalizing', 'displacement', 'exploits', 'deceptively', 'foreclosed', 'harassed', 'underpays', 'embarrassed', 'suffered', 'overbuilds', 'deadlock', 'unparalleled', 'demolition', 'liquidations', 'overburdening', 'destruction', 'impressing', 'annulled', 'demises', 'displacements', 'errs', 'annoying', 'conspiring', 'unannounced', 'indicted', 'highest', 'ceasing', 'underestimation', 'resolve', 'dishonesty', 'deceives', 'negligence', 'detriments', 'inefficiencies', 'degrading', 'unreliable', 'irreconcilably', 'interferes', 'unavailable', 'plaintiffs', 'progressed', 'retaliated', 'injunction', 'arguments', 'innovators', 'repudiating', 'unsuitably', 'forfeiting', 'bankruptcies', 'contradicted', 'vibrant', 'conflict', 'recalls', 'penalty', 'nonrecoverable', 'restructure', 'breakthroughs', 'closings', 'contentiously', 'disclaiming', 'forestalls', 'ill', 'relinquishments', 'insensitive', 'invalidating', 'unsuccessfully', 'cyberbullying', 'scrutinizing', 'forestalled', 'setbacks', 'complicating', 'laundering', 'redaction', 'unlawfully', 'falsifies', 'denied', 'erratic', 'abolishing', 'misappropriated', 'excellence', 'objected', 'oversupplies', 'underfunded', 'restate', 'unwillingness', 'dismal', 'disasters', 'disturbs'}\n"
          ]
        }
      ]
    },
    {
      "cell_type": "code",
      "execution_count": 65,
      "metadata": {
        "colab": {
          "base_uri": "https://localhost:8080/"
        },
        "id": "t4WRZpPt4_eK",
        "outputId": "136c9a3e-9196-4b37-e64e-ffe22ee11f4e"
      },
      "outputs": [
        {
          "output_type": "stream",
          "name": "stdout",
          "text": [
            "2014 (480, 37)\n",
            "2017 (483, 37)\n",
            "2018 (488, 37)\n",
            "2010 (476, 37)\n",
            "2016 (486, 37)\n",
            "2019 (492, 37)\n",
            "2013 (474, 37)\n",
            "2012 (472, 37)\n",
            "2015 (478, 37)\n",
            "2011 (476, 37)\n"
          ]
        }
      ],
      "source": [
        "# Loading sp500-edgar-10k (Jlohing, 2022)\n",
        "path = '/content/'\n",
        "parquet_files = [file for file in os.listdir(path) if file.endswith('.parquet')]\n",
        "\n",
        "dfs = {}\n",
        "\n",
        "for file in parquet_files:\n",
        "    year = int(file.split('.')[0])\n",
        "    df = pd.read_parquet(os.path.join(path, file))\n",
        "    dfs[year] = df\n",
        "\n",
        "for year, df in dfs.items():\n",
        "    print(year, df.shape)"
      ]
    },
    {
      "cell_type": "code",
      "source": [
        "clean_data = pd.DataFrame()\n",
        "\n",
        "for year, df in dfs.items():\n",
        "    print(\"Processing\", year)\n",
        "    df.drop(columns=['cik', 'sic', 'company', 'date',\n",
        "                     'item_1', 'item_1B', 'item_2',\n",
        "                     'item_4', 'item_5', 'item_6',\n",
        "                     'item_8', 'item_9', 'item_9A',\n",
        "                     'item_9B', 'item_10', 'item_11',\n",
        "                     'item_12', 'item_13', 'item_14',\n",
        "                     'item_15', 'ret','mkt_cap'], inplace=True)\n",
        "    df = df.reset_index(drop=True)\n",
        "    df['Sentiment'] = None\n",
        "    df['Year'] = None\n",
        "    avg = 0\n",
        "    avg_raw = 0\n",
        "    # Sentence extraction using LMD\n",
        "    for index, row in df.iterrows():\n",
        "        sentiment_list = []\n",
        "        content = str(row['item_1A']) + str(row['item_3']) + str(row['item_7']) + str(row['item_7A'])\n",
        "        sentences = re.split(r'[.!?]+', content)\n",
        "        for sentence in sentences:\n",
        "            for i, word in enumerate(sentence.split()):\n",
        "                if word in word_set:\n",
        "                    sentiment_list.append(sentence)\n",
        "                    break\n",
        "        # Remove unnecessary punctuation\n",
        "        text = str(sentiment_list)\n",
        "        text = text.replace(\"',\", \".\")\n",
        "        text = text.replace(\"'\", \"\")\n",
        "        text = text.replace(\"\\\\n\", \"\")\n",
        "        text = text.replace('\\n', '.')\n",
        "        text = text.replace('[', '')\n",
        "        text = text.replace(']', '')\n",
        "        text = text.replace('•', ' ')\n",
        "        text = re.sub(r'\\s+', ' ', text).strip()\n",
        "        df.at[index, 'Sentiment'] = text\n",
        "        df.at[index, 'Year'] = year\n",
        "        ratio = len(sentiment_list) * 100 / len(sentences)\n",
        "        # Retain only instances with at least 10% of sentences extracted\n",
        "        if ratio < 10:\n",
        "            print(\"Removed instance at index\",index,\"- not enough info retained. Ratio =\",ratio)\n",
        "            df.drop(index, inplace = True)\n",
        "        else:\n",
        "            avg_raw += len(sentences)\n",
        "            avg += len(sentiment_list)\n",
        "\n",
        "    df = df.reset_index(drop=True)\n",
        "    avg /= len(df)\n",
        "    avg_raw /= len(df)\n",
        "    print(\"Retained an average of\",avg,\"sentences out of an average total of\", avg_raw)\n",
        "    print(\"Finished\", year)\n",
        "    df.drop(columns=['item_1A','item_3','item_7', 'item_7A'], inplace=True)\n",
        "    clean_data = clean_data._append(df, ignore_index=True)"
      ],
      "metadata": {
        "colab": {
          "base_uri": "https://localhost:8080/"
        },
        "id": "OikEHCVZ542k",
        "outputId": "93aa1548-10b0-4b2f-914d-0e928276d2e8"
      },
      "execution_count": 66,
      "outputs": [
        {
          "output_type": "stream",
          "name": "stdout",
          "text": [
            "Processing 2014\n",
            "Removed instance at index 73 - not enough info retained. Ratio = 0.0\n",
            "Removed instance at index 83 - not enough info retained. Ratio = 0.0\n",
            "Removed instance at index 96 - not enough info retained. Ratio = 0.0\n",
            "Removed instance at index 182 - not enough info retained. Ratio = 0.0\n",
            "Removed instance at index 200 - not enough info retained. Ratio = 0.0\n",
            "Removed instance at index 244 - not enough info retained. Ratio = 0.0\n",
            "Removed instance at index 269 - not enough info retained. Ratio = 0.0\n",
            "Removed instance at index 280 - not enough info retained. Ratio = 0.0\n",
            "Removed instance at index 302 - not enough info retained. Ratio = 0.0\n",
            "Removed instance at index 303 - not enough info retained. Ratio = 6.25\n",
            "Retained an average of 297.668085106383 sentences out of an average total of 991.9404255319149\n",
            "Finished 2014\n",
            "Processing 2017\n",
            "Removed instance at index 49 - not enough info retained. Ratio = 0.0\n",
            "Removed instance at index 57 - not enough info retained. Ratio = 0.0\n",
            "Removed instance at index 91 - not enough info retained. Ratio = 0.0\n",
            "Removed instance at index 132 - not enough info retained. Ratio = 0.0\n",
            "Removed instance at index 162 - not enough info retained. Ratio = 7.6923076923076925\n",
            "Removed instance at index 172 - not enough info retained. Ratio = 0.0\n",
            "Removed instance at index 259 - not enough info retained. Ratio = 0.0\n",
            "Removed instance at index 270 - not enough info retained. Ratio = 0.0\n",
            "Removed instance at index 313 - not enough info retained. Ratio = 0.0\n",
            "Removed instance at index 342 - not enough info retained. Ratio = 0.0\n",
            "Retained an average of 308.4989429175476 sentences out of an average total of 1014.0549682875264\n",
            "Finished 2017\n",
            "Processing 2018\n",
            "Removed instance at index 0 - not enough info retained. Ratio = 8.333333333333334\n",
            "Removed instance at index 28 - not enough info retained. Ratio = 0.0\n",
            "Removed instance at index 35 - not enough info retained. Ratio = 0.0\n",
            "Removed instance at index 39 - not enough info retained. Ratio = 0.0\n",
            "Removed instance at index 52 - not enough info retained. Ratio = 0.0\n",
            "Removed instance at index 82 - not enough info retained. Ratio = 0.0\n",
            "Removed instance at index 95 - not enough info retained. Ratio = 0.0\n",
            "Removed instance at index 174 - not enough info retained. Ratio = 0.0\n",
            "Removed instance at index 350 - not enough info retained. Ratio = 0.0\n",
            "Removed instance at index 484 - not enough info retained. Ratio = 0.0\n",
            "Retained an average of 310.1694560669456 sentences out of an average total of 1034.4058577405858\n",
            "Finished 2018\n",
            "Processing 2010\n",
            "Removed instance at index 6 - not enough info retained. Ratio = 8.333333333333334\n",
            "Removed instance at index 9 - not enough info retained. Ratio = 0.0\n",
            "Removed instance at index 44 - not enough info retained. Ratio = 0.0\n",
            "Removed instance at index 72 - not enough info retained. Ratio = 0.0\n",
            "Removed instance at index 89 - not enough info retained. Ratio = 0.0\n",
            "Removed instance at index 96 - not enough info retained. Ratio = 0.0\n",
            "Removed instance at index 122 - not enough info retained. Ratio = 0.0\n",
            "Removed instance at index 140 - not enough info retained. Ratio = 0.0\n",
            "Removed instance at index 146 - not enough info retained. Ratio = 0.0\n",
            "Removed instance at index 215 - not enough info retained. Ratio = 0.0\n",
            "Removed instance at index 216 - not enough info retained. Ratio = 0.0\n",
            "Removed instance at index 217 - not enough info retained. Ratio = 0.0\n",
            "Removed instance at index 354 - not enough info retained. Ratio = 0.0\n",
            "Removed instance at index 376 - not enough info retained. Ratio = 0.0\n",
            "Removed instance at index 405 - not enough info retained. Ratio = 0.0\n",
            "Removed instance at index 415 - not enough info retained. Ratio = 0.0\n",
            "Retained an average of 287.1586956521739 sentences out of an average total of 943.7978260869565\n",
            "Finished 2010\n",
            "Processing 2016\n",
            "Removed instance at index 51 - not enough info retained. Ratio = 0.0\n",
            "Removed instance at index 86 - not enough info retained. Ratio = 0.0\n",
            "Removed instance at index 110 - not enough info retained. Ratio = 0.0\n",
            "Removed instance at index 129 - not enough info retained. Ratio = 0.0\n",
            "Removed instance at index 160 - not enough info retained. Ratio = 0.0\n",
            "Removed instance at index 188 - not enough info retained. Ratio = 7.6923076923076925\n",
            "Removed instance at index 214 - not enough info retained. Ratio = 0.0\n",
            "Removed instance at index 240 - not enough info retained. Ratio = 0.0\n",
            "Removed instance at index 267 - not enough info retained. Ratio = 0.0\n",
            "Removed instance at index 291 - not enough info retained. Ratio = 0.0\n",
            "Removed instance at index 422 - not enough info retained. Ratio = 0.0\n",
            "Removed instance at index 469 - not enough info retained. Ratio = 0.0\n",
            "Retained an average of 303.28059071729956 sentences out of an average total of 1002.7278481012659\n",
            "Finished 2016\n",
            "Processing 2019\n",
            "Removed instance at index 192 - not enough info retained. Ratio = 0.0\n",
            "Removed instance at index 284 - not enough info retained. Ratio = 0.0\n",
            "Removed instance at index 288 - not enough info retained. Ratio = 0.0\n",
            "Removed instance at index 290 - not enough info retained. Ratio = 0.0\n",
            "Removed instance at index 306 - not enough info retained. Ratio = 0.0\n",
            "Removed instance at index 314 - not enough info retained. Ratio = 0.0\n",
            "Removed instance at index 367 - not enough info retained. Ratio = 0.0\n",
            "Removed instance at index 410 - not enough info retained. Ratio = 0.0\n",
            "Removed instance at index 483 - not enough info retained. Ratio = 0.0\n",
            "Retained an average of 309.9192546583851 sentences out of an average total of 1025.7391304347825\n",
            "Finished 2019\n",
            "Processing 2013\n",
            "Removed instance at index 22 - not enough info retained. Ratio = 0.0\n",
            "Removed instance at index 45 - not enough info retained. Ratio = 0.0\n",
            "Removed instance at index 114 - not enough info retained. Ratio = 0.0\n",
            "Removed instance at index 142 - not enough info retained. Ratio = 0.0\n",
            "Removed instance at index 152 - not enough info retained. Ratio = 0.0\n",
            "Removed instance at index 212 - not enough info retained. Ratio = 6.25\n",
            "Removed instance at index 324 - not enough info retained. Ratio = 0.0\n",
            "Removed instance at index 351 - not enough info retained. Ratio = 7.070707070707071\n",
            "Removed instance at index 363 - not enough info retained. Ratio = 0.0\n",
            "Retained an average of 294.7204301075269 sentences out of an average total of 983.1913978494624\n",
            "Finished 2013\n",
            "Processing 2012\n",
            "Removed instance at index 12 - not enough info retained. Ratio = 0.0\n",
            "Removed instance at index 64 - not enough info retained. Ratio = 0.0\n",
            "Removed instance at index 122 - not enough info retained. Ratio = 0.0\n",
            "Removed instance at index 146 - not enough info retained. Ratio = 0.0\n",
            "Removed instance at index 156 - not enough info retained. Ratio = 5.555555555555555\n",
            "Removed instance at index 158 - not enough info retained. Ratio = 0.0\n",
            "Removed instance at index 176 - not enough info retained. Ratio = 6.25\n",
            "Removed instance at index 249 - not enough info retained. Ratio = 0.0\n",
            "Removed instance at index 282 - not enough info retained. Ratio = 0.0\n",
            "Removed instance at index 381 - not enough info retained. Ratio = 0.0\n",
            "Removed instance at index 471 - not enough info retained. Ratio = 0.0\n",
            "Retained an average of 293.5184381778742 sentences out of an average total of 986.3297180043384\n",
            "Finished 2012\n",
            "Processing 2015\n",
            "Removed instance at index 8 - not enough info retained. Ratio = 0.0\n",
            "Removed instance at index 120 - not enough info retained. Ratio = 0.0\n",
            "Removed instance at index 144 - not enough info retained. Ratio = 0.0\n",
            "Removed instance at index 157 - not enough info retained. Ratio = 0.0\n",
            "Removed instance at index 303 - not enough info retained. Ratio = 0.0\n",
            "Removed instance at index 343 - not enough info retained. Ratio = 0.0\n",
            "Removed instance at index 388 - not enough info retained. Ratio = 6.25\n",
            "Removed instance at index 429 - not enough info retained. Ratio = 0.0\n",
            "Removed instance at index 434 - not enough info retained. Ratio = 0.0\n",
            "Removed instance at index 465 - not enough info retained. Ratio = 0.0\n",
            "Removed instance at index 476 - not enough info retained. Ratio = 0.0\n",
            "Retained an average of 299.8222698072805 sentences out of an average total of 989.728051391863\n",
            "Finished 2015\n",
            "Processing 2011\n",
            "Removed instance at index 19 - not enough info retained. Ratio = 0.0\n",
            "Removed instance at index 29 - not enough info retained. Ratio = 0.0\n",
            "Removed instance at index 55 - not enough info retained. Ratio = 0.0\n",
            "Removed instance at index 65 - not enough info retained. Ratio = 0.0\n",
            "Removed instance at index 80 - not enough info retained. Ratio = 6.25\n",
            "Removed instance at index 86 - not enough info retained. Ratio = 5.405405405405405\n",
            "Removed instance at index 196 - not enough info retained. Ratio = 0.0\n",
            "Removed instance at index 214 - not enough info retained. Ratio = 0.0\n",
            "Removed instance at index 217 - not enough info retained. Ratio = 0.0\n",
            "Removed instance at index 234 - not enough info retained. Ratio = 0.0\n",
            "Removed instance at index 251 - not enough info retained. Ratio = 8.333333333333334\n",
            "Removed instance at index 254 - not enough info retained. Ratio = 0.0\n",
            "Removed instance at index 267 - not enough info retained. Ratio = 9.090909090909092\n",
            "Removed instance at index 300 - not enough info retained. Ratio = 5.0\n",
            "Removed instance at index 383 - not enough info retained. Ratio = 0.0\n",
            "Removed instance at index 406 - not enough info retained. Ratio = 0.0\n",
            "Removed instance at index 450 - not enough info retained. Ratio = 0.0\n",
            "Removed instance at index 457 - not enough info retained. Ratio = 7.042253521126761\n",
            "Retained an average of 297.1637554585153 sentences out of an average total of 1001.3733624454148\n",
            "Finished 2011\n"
          ]
        }
      ]
    },
    {
      "cell_type": "code",
      "source": [
        "clean_data.info()"
      ],
      "metadata": {
        "colab": {
          "base_uri": "https://localhost:8080/"
        },
        "id": "2kqwNyyYAXq1",
        "outputId": "21806e32-fa5d-4ea7-fac8-61ba72ef366e"
      },
      "execution_count": 67,
      "outputs": [
        {
          "output_type": "stream",
          "name": "stdout",
          "text": [
            "<class 'pandas.core.frame.DataFrame'>\n",
            "RangeIndex: 4689 entries, 0 to 4688\n",
            "Data columns (total 13 columns):\n",
            " #   Column          Non-Null Count  Dtype  \n",
            "---  ------          --------------  -----  \n",
            " 0   1_day_return    4689 non-null   float64\n",
            " 1   3_day_return    4689 non-null   float64\n",
            " 2   5_day_return    4689 non-null   float64\n",
            " 3   10_day_return   4689 non-null   float64\n",
            " 4   20_day_return   4689 non-null   float64\n",
            " 5   40_day_return   4689 non-null   float64\n",
            " 6   60_day_return   4689 non-null   float64\n",
            " 7   80_day_return   4689 non-null   float64\n",
            " 8   100_day_return  4689 non-null   float64\n",
            " 9   150_day_return  4689 non-null   float64\n",
            " 10  252_day_return  4689 non-null   float64\n",
            " 11  Sentiment       4689 non-null   object \n",
            " 12  Year            4689 non-null   object \n",
            "dtypes: float64(11), object(2)\n",
            "memory usage: 476.4+ KB\n"
          ]
        }
      ]
    },
    {
      "cell_type": "code",
      "source": [
        "clean_data.to_parquet('10K_LMD_sent_BERT.parquet')"
      ],
      "metadata": {
        "id": "TqfbjX8OCo-P"
      },
      "execution_count": 68,
      "outputs": []
    },
    {
      "cell_type": "markdown",
      "source": [
        "### Sentiment Analysis"
      ],
      "metadata": {
        "id": "31Ce7A6uENBl"
      }
    },
    {
      "cell_type": "code",
      "source": [
        "import pandas as pd\n",
        "import nltk\n",
        "from nltk.tokenize import sent_tokenize\n",
        "from transformers import AutoModelForSequenceClassification, AutoTokenizer, pipeline\n",
        "import torch\n",
        "import scipy\n",
        "\n",
        "df = pd.read_parquet('/content/10K_LMD_sent_BERT.parquet')\n",
        "\n",
        "df.shape"
      ],
      "metadata": {
        "colab": {
          "base_uri": "https://localhost:8080/"
        },
        "id": "q2tW39x6EQWY",
        "outputId": "820a1d74-c1e6-4750-8e05-8e8942cf68fb"
      },
      "execution_count": 69,
      "outputs": [
        {
          "output_type": "execute_result",
          "data": {
            "text/plain": [
              "(4689, 13)"
            ]
          },
          "metadata": {},
          "execution_count": 69
        }
      ]
    },
    {
      "cell_type": "code",
      "source": [
        "nltk.download('punkt')\n",
        "df['Sentences'] = df['Sentiment'].apply(sent_tokenize)"
      ],
      "metadata": {
        "colab": {
          "base_uri": "https://localhost:8080/"
        },
        "id": "4Op1SiAPEdsq",
        "outputId": "dd5b905a-de36-4a3b-f5f3-7809f5efeb36"
      },
      "execution_count": 70,
      "outputs": [
        {
          "output_type": "stream",
          "name": "stderr",
          "text": [
            "[nltk_data] Downloading package punkt to /root/nltk_data...\n",
            "[nltk_data]   Package punkt is already up-to-date!\n"
          ]
        }
      ]
    },
    {
      "cell_type": "code",
      "source": [
        "# BERT - Devlin et al., 2018\n",
        "# model = AutoModelForSequenceClassification.from_pretrained('bert-base-uncased')\n",
        "# tokenizer = AutoTokenizer.from_pretrained('bert-base-uncased')\n",
        "\n",
        "# FinBERT - Araci, 2019\n",
        "model = AutoModelForSequenceClassification.from_pretrained('ProsusAI/finbert')\n",
        "tokenizer = AutoTokenizer.from_pretrained('ProsusAI/finbert')"
      ],
      "metadata": {
        "id": "WZ7_BSPbEzO2"
      },
      "execution_count": 71,
      "outputs": []
    },
    {
      "cell_type": "code",
      "source": [
        "device = torch.device('cuda')\n",
        "# device = torch.device('cpu')\n",
        "model.to(device)"
      ],
      "metadata": {
        "colab": {
          "base_uri": "https://localhost:8080/"
        },
        "collapsed": true,
        "id": "pKQZrtsjFbOd",
        "outputId": "8c3a9ca2-0487-4dfa-df51-f8a2608e85f4"
      },
      "execution_count": 72,
      "outputs": [
        {
          "output_type": "execute_result",
          "data": {
            "text/plain": [
              "BertForSequenceClassification(\n",
              "  (bert): BertModel(\n",
              "    (embeddings): BertEmbeddings(\n",
              "      (word_embeddings): Embedding(30522, 768, padding_idx=0)\n",
              "      (position_embeddings): Embedding(512, 768)\n",
              "      (token_type_embeddings): Embedding(2, 768)\n",
              "      (LayerNorm): LayerNorm((768,), eps=1e-12, elementwise_affine=True)\n",
              "      (dropout): Dropout(p=0.1, inplace=False)\n",
              "    )\n",
              "    (encoder): BertEncoder(\n",
              "      (layer): ModuleList(\n",
              "        (0-11): 12 x BertLayer(\n",
              "          (attention): BertAttention(\n",
              "            (self): BertSdpaSelfAttention(\n",
              "              (query): Linear(in_features=768, out_features=768, bias=True)\n",
              "              (key): Linear(in_features=768, out_features=768, bias=True)\n",
              "              (value): Linear(in_features=768, out_features=768, bias=True)\n",
              "              (dropout): Dropout(p=0.1, inplace=False)\n",
              "            )\n",
              "            (output): BertSelfOutput(\n",
              "              (dense): Linear(in_features=768, out_features=768, bias=True)\n",
              "              (LayerNorm): LayerNorm((768,), eps=1e-12, elementwise_affine=True)\n",
              "              (dropout): Dropout(p=0.1, inplace=False)\n",
              "            )\n",
              "          )\n",
              "          (intermediate): BertIntermediate(\n",
              "            (dense): Linear(in_features=768, out_features=3072, bias=True)\n",
              "            (intermediate_act_fn): GELUActivation()\n",
              "          )\n",
              "          (output): BertOutput(\n",
              "            (dense): Linear(in_features=3072, out_features=768, bias=True)\n",
              "            (LayerNorm): LayerNorm((768,), eps=1e-12, elementwise_affine=True)\n",
              "            (dropout): Dropout(p=0.1, inplace=False)\n",
              "          )\n",
              "        )\n",
              "      )\n",
              "    )\n",
              "    (pooler): BertPooler(\n",
              "      (dense): Linear(in_features=768, out_features=768, bias=True)\n",
              "      (activation): Tanh()\n",
              "    )\n",
              "  )\n",
              "  (dropout): Dropout(p=0.1, inplace=False)\n",
              "  (classifier): Linear(in_features=768, out_features=3, bias=True)\n",
              ")"
            ]
          },
          "metadata": {},
          "execution_count": 72
        }
      ]
    },
    {
      "cell_type": "code",
      "source": [
        "pipeline = pipeline(\"sentiment-analysis\", model=model, tokenizer=tokenizer, device=device)"
      ],
      "metadata": {
        "id": "KMhk1_UAFcyc"
      },
      "execution_count": 73,
      "outputs": []
    },
    {
      "cell_type": "code",
      "source": [
        "def get_sentiment_score(sentence):\n",
        "    # Sentence-wise sentiment analysis\n",
        "    encoded_input = tokenizer(sentence, return_tensors='pt', max_length=512, truncation=True).to(device)\n",
        "    with torch.no_grad():\n",
        "        logits = model(**encoded_input).logits\n",
        "    scores = {k: v for k, v in zip(model.config.id2label.values(), scipy.special.softmax(logits.cpu().numpy().squeeze()))}\n",
        "    return scores\n",
        "\n",
        "def pool_sentiment_scores(sentiment_scores_list):\n",
        "    # Logit score pooling\n",
        "    num_sentences = len(sentiment_scores_list)\n",
        "    if num_sentences == 0:\n",
        "        return 0\n",
        "    positive_sum = 0\n",
        "    negative_sum = 0\n",
        "    for sentiment_scores in sentiment_scores_list:\n",
        "        # For BERT:\n",
        "        # positive_sum += sentiment_scores['LABEL_0']\n",
        "        # negative_sum += sentiment_scores['LABEL_1']\n",
        "        # For FinBERT:\n",
        "        positive_sum += sentiment_scores['positive']\n",
        "        negative_sum += sentiment_scores['neutral']\n",
        "    pooled_score = (positive_sum - negative_sum) / num_sentences\n",
        "    return pooled_score"
      ],
      "metadata": {
        "id": "Dspby4s_FhZQ"
      },
      "execution_count": 74,
      "outputs": []
    },
    {
      "cell_type": "code",
      "source": [
        "df['Sentiment_scores'] = df['Sentences'].apply(lambda x: [get_sentiment_score(sentence) for sentence in x])"
      ],
      "metadata": {
        "id": "tIuYj9BbGa0h"
      },
      "execution_count": 75,
      "outputs": []
    },
    {
      "cell_type": "code",
      "source": [
        "df['Document_sentiment_score'] = df['Sentiment_scores'].apply(lambda x: pool_sentiment_scores(x))"
      ],
      "metadata": {
        "id": "TsoGYlfJGhiM"
      },
      "execution_count": 76,
      "outputs": []
    },
    {
      "cell_type": "code",
      "source": [
        "df.drop(columns=['Sentiment', 'Sentences', 'Sentiment_scores'], inplace=True)"
      ],
      "metadata": {
        "id": "boEX608-GvrI"
      },
      "execution_count": 77,
      "outputs": []
    },
    {
      "cell_type": "code",
      "source": [
        "df.info()"
      ],
      "metadata": {
        "colab": {
          "base_uri": "https://localhost:8080/"
        },
        "id": "F1p88g_D7M-B",
        "outputId": "b071f552-6273-4019-a99e-f35c34ab4176"
      },
      "execution_count": 78,
      "outputs": [
        {
          "output_type": "stream",
          "name": "stdout",
          "text": [
            "<class 'pandas.core.frame.DataFrame'>\n",
            "RangeIndex: 4689 entries, 0 to 4688\n",
            "Data columns (total 13 columns):\n",
            " #   Column                    Non-Null Count  Dtype  \n",
            "---  ------                    --------------  -----  \n",
            " 0   1_day_return              4689 non-null   float64\n",
            " 1   3_day_return              4689 non-null   float64\n",
            " 2   5_day_return              4689 non-null   float64\n",
            " 3   10_day_return             4689 non-null   float64\n",
            " 4   20_day_return             4689 non-null   float64\n",
            " 5   40_day_return             4689 non-null   float64\n",
            " 6   60_day_return             4689 non-null   float64\n",
            " 7   80_day_return             4689 non-null   float64\n",
            " 8   100_day_return            4689 non-null   float64\n",
            " 9   150_day_return            4689 non-null   float64\n",
            " 10  252_day_return            4689 non-null   float64\n",
            " 11  Year                      4689 non-null   int64  \n",
            " 12  Document_sentiment_score  4689 non-null   float64\n",
            "dtypes: float64(12), int64(1)\n",
            "memory usage: 476.4 KB\n"
          ]
        }
      ]
    },
    {
      "cell_type": "code",
      "source": [
        "# df.to_parquet('processed_BERT.parquet')\n",
        "df.to_parquet('processed_FinBERT.parquet')"
      ],
      "metadata": {
        "id": "RjNkVuO4GxhJ"
      },
      "execution_count": 79,
      "outputs": []
    },
    {
      "cell_type": "markdown",
      "source": [
        "### Correlation and Logistic Regression"
      ],
      "metadata": {
        "id": "7xSZD-M47XSG"
      }
    },
    {
      "cell_type": "code",
      "source": [
        "import pandas as pd\n",
        "from scipy.stats import pearsonr\n",
        "import matplotlib.pyplot as plt\n",
        "import numpy as np\n",
        "import scipy.stats\n",
        "\n",
        "# df_proc = pd.read_parquet('processed_BERT.parquet')\n",
        "df_proc = pd.read_parquet('processed_FinBERT.parquet')"
      ],
      "metadata": {
        "id": "zRvn48zy7bta"
      },
      "execution_count": 33,
      "outputs": []
    },
    {
      "cell_type": "code",
      "source": [
        "return_periods = ['1_day_return', '3_day_return', '5_day_return', '10_day_return', '20_day_return',\n",
        "                  '40_day_return', '60_day_return', '80_day_return', '100_day_return',\n",
        "                  '150_day_return', '252_day_return']\n",
        "\n",
        "# Calculate correlation coefficient and p-value for each return period\n",
        "for period in return_periods:\n",
        "    correlation_coefficient, p_value = pearsonr(df_proc['Document_sentiment_score'], df_proc[period])\n",
        "    print(f'  Correlation coefficient for {period}: {correlation_coefficient}')\n",
        "    print(f'  P-value for {period}: {p_value}')"
      ],
      "metadata": {
        "colab": {
          "base_uri": "https://localhost:8080/"
        },
        "id": "Zq203uQL78R3",
        "outputId": "770c2142-7335-4867-cac1-d67ed5e98c2d"
      },
      "execution_count": 34,
      "outputs": [
        {
          "output_type": "stream",
          "name": "stdout",
          "text": [
            "  Correlation coefficient for 1_day_return: 0.08556919292659919\n",
            "  P-value for 1_day_return: 0.06466021004452369\n",
            "  Correlation coefficient for 3_day_return: 0.11572423557104795\n",
            "  P-value for 3_day_return: 0.012330820330012298\n",
            "  Correlation coefficient for 5_day_return: 0.10171773466597445\n",
            "  P-value for 5_day_return: 0.027952565264951688\n",
            "  Correlation coefficient for 10_day_return: 0.05115043172204848\n",
            "  P-value for 10_day_return: 0.26997068952577624\n",
            "  Correlation coefficient for 20_day_return: -0.05665301717228535\n",
            "  P-value for 20_day_return: 0.22171419576945614\n",
            "  Correlation coefficient for 40_day_return: -0.053171077704890386\n",
            "  P-value for 40_day_return: 0.25147723956642276\n",
            "  Correlation coefficient for 60_day_return: -0.029201699039710677\n",
            "  P-value for 60_day_return: 0.5290236605622016\n",
            "  Correlation coefficient for 80_day_return: -0.03340738649446961\n",
            "  P-value for 80_day_return: 0.47139816672187884\n",
            "  Correlation coefficient for 100_day_return: -0.04839607579442828\n",
            "  P-value for 100_day_return: 0.29664418214758015\n",
            "  Correlation coefficient for 150_day_return: -0.01554925491497246\n",
            "  P-value for 150_day_return: 0.7375179893003978\n",
            "  Correlation coefficient for 252_day_return: -0.00864080406738955\n",
            "  P-value for 252_day_return: 0.8522625133066305\n"
          ]
        }
      ]
    },
    {
      "cell_type": "code",
      "source": [
        "df_proc.drop(columns=['10_day_return', '20_day_return',\n",
        "                      '40_day_return', '60_day_return', '80_day_return', '100_day_return',\n",
        "                      '150_day_return', '252_day_return'], inplace=True)\n",
        "\n",
        "df_proc['label_3'] = None\n",
        "df_proc['label_5'] = None\n",
        "for index, row in df_proc.iterrows():\n",
        "    if row['3_day_return'] > 1.015:\n",
        "        df_proc.at[index, 'label_3'] = 'up'\n",
        "    elif row['3_day_return'] < 0.985:\n",
        "        df_proc.at[index, 'label_3'] = 'down'\n",
        "    else:\n",
        "        df_proc.at[index, 'label_3'] = 'no'\n",
        "    if row['5_day_return'] > 1.015:\n",
        "        df_proc.at[index, 'label_5'] = 'up'\n",
        "    elif row['5_day_return'] < 0.985:\n",
        "        df_proc.at[index, 'label_5'] = 'down'\n",
        "    else:\n",
        "        df_proc.at[index, 'label_5'] = 'no'"
      ],
      "metadata": {
        "id": "Ad8ikmtX4FjC"
      },
      "execution_count": 35,
      "outputs": []
    },
    {
      "cell_type": "code",
      "source": [
        "from sklearn.model_selection import train_test_split\n",
        "from imblearn.over_sampling import SMOTE\n",
        "from sklearn.linear_model import LogisticRegression\n",
        "from sklearn.metrics import classification_report\n",
        "\n",
        "X = df_proc[['Document_sentiment_score']]\n",
        "y = df_proc['label_3']\n",
        "\n",
        "X_train, X_test, y_train, y_test = train_test_split(X, y, test_size=0.2, random_state=42)\n",
        "\n",
        "# Apply SMOTE to the training data\n",
        "smote = SMOTE(random_state=42)\n",
        "X_train_res, y_train_res = smote.fit_resample(X_train, y_train)\n",
        "\n",
        "print(\"Original class distribution:\\n\", y_train.value_counts())\n",
        "print(\"Resampled class distribution:\\n\", y_train_res.value_counts())\n",
        "\n",
        "model = LogisticRegression()\n",
        "model.fit(X_train_res, y_train_res)\n",
        "\n",
        "y_pred = model.predict(X_test)\n",
        "\n",
        "report = classification_report(y_test, y_pred)\n",
        "\n",
        "print(f'Classification Report:\\n{report}')"
      ],
      "metadata": {
        "colab": {
          "base_uri": "https://localhost:8080/"
        },
        "id": "ZaZHbJ-F402a",
        "outputId": "9c535af7-0c2b-424b-80be-21a39b6e585c"
      },
      "execution_count": 36,
      "outputs": [
        {
          "output_type": "stream",
          "name": "stdout",
          "text": [
            "Original class distribution:\n",
            " label_3\n",
            "no      222\n",
            "up       92\n",
            "down     59\n",
            "Name: count, dtype: int64\n",
            "Resampled class distribution:\n",
            " label_3\n",
            "no      222\n",
            "up      222\n",
            "down    222\n",
            "Name: count, dtype: int64\n",
            "Classification Report:\n",
            "              precision    recall  f1-score   support\n",
            "\n",
            "        down       0.20      0.64      0.31        14\n",
            "          no       1.00      0.03      0.06        62\n",
            "          up       0.26      0.67      0.37        18\n",
            "\n",
            "    accuracy                           0.24        94\n",
            "   macro avg       0.49      0.45      0.25        94\n",
            "weighted avg       0.74      0.24      0.16        94\n",
            "\n"
          ]
        }
      ]
    },
    {
      "cell_type": "markdown",
      "source": [
        "\n",
        "### References:\n",
        "\n",
        "*   Araci, Dogu. ‘FinBERT: Financial Sentiment Analysis with Pre-Trained Language Models’, 2019. https://doi.org/10.48550/arXiv.1908.10063.\n",
        "*   Devlin, Jacob, Ming-Wei Chang, Kenton Lee, and Kristina Toutanova. ‘BERT: Pre-Training of Deep Bidirectional Transformers for Language Understanding’, 2018. https://doi.org/10.48550/arXiv.1810.04805.\n",
        "*   ‘Jlohding/Sp500-Edgar-10k · Datasets at Hugging Face’. Accessed 17 June 2024. https://huggingface.co/datasets/jlohding/sp500-edgar-10k.\n",
        "*   Loughran, Tim, and Bill Mcdonald. ‘When Is a Liability Not a Liability? Textual Analysis, Dictionaries, and 10‐Ks’. The Journal of Finance 66, no. 1 (February 2011): 35–65. https://doi.org/10.1111/j.1540-6261.2010.01625.x.\n",
        "\n"
      ],
      "metadata": {
        "id": "WnLWnt8kxIIr"
      }
    }
  ]
}